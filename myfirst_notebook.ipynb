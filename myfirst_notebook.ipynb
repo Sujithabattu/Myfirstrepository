{
 "cells": [
  {
   "cell_type": "markdown",
   "id": "49c1b7ed-ab98-4d5e-95b5-dc6397c4d436",
   "metadata": {},
   "source": [
    "## This is my first notebook ##\n",
    "### This is a subtitile ###\n",
    "\n",
    "this is sujitha, persuing pg diploma in Ai\n"
   ]
  },
  {
   "cell_type": "code",
   "execution_count": 9,
   "id": "40852a49-d8de-4178-b0c0-d2397151a719",
   "metadata": {},
   "outputs": [
    {
     "name": "stdout",
     "output_type": "stream",
     "text": [
      "Hello world\n"
     ]
    }
   ],
   "source": [
    "print('Hello world')"
   ]
  },
  {
   "cell_type": "code",
   "execution_count": null,
   "id": "4d8fcb8f-9f2b-441a-b914-3858eb22a746",
   "metadata": {},
   "outputs": [],
   "source": []
  },
  {
   "cell_type": "code",
   "execution_count": null,
   "id": "55062d01-a57e-4bf1-8b7f-6ab1a7c93015",
   "metadata": {},
   "outputs": [],
   "source": []
  }
 ],
 "metadata": {
  "kernelspec": {
   "display_name": "Python 3 (ipykernel)",
   "language": "python",
   "name": "python3"
  },
  "language_info": {
   "codemirror_mode": {
    "name": "ipython",
    "version": 3
   },
   "file_extension": ".py",
   "mimetype": "text/x-python",
   "name": "python",
   "nbconvert_exporter": "python",
   "pygments_lexer": "ipython3",
   "version": "3.12.4"
  }
 },
 "nbformat": 4,
 "nbformat_minor": 5
}
